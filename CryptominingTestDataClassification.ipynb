{
 "cells": [
  {
   "cell_type": "code",
   "execution_count": 369,
   "metadata": {},
   "outputs": [],
   "source": [
    "import pandas as pd\n",
    "import numpy as np\n",
    "import matplotlib.pyplot as plt \n",
    "from sklearn.model_selection import train_test_split\n",
    "import seaborn as sns \n",
    "from sklearn import preprocessing\n",
    "from sklearn.linear_model import LogisticRegression\n",
    "from sklearn.metrics import classification_report\n",
    "from sklearn.metrics import roc_curve, roc_auc_score\n",
    "from sklearn.metrics import confusion_matrix\n",
    "import os # accessing directory structure"
   ]
  },
  {
   "cell_type": "markdown",
   "metadata": {},
   "source": [
    "### Import the dataset"
   ]
  },
  {
   "cell_type": "code",
   "execution_count": 370,
   "metadata": {},
   "outputs": [
    {
     "name": "stdout",
     "output_type": "stream",
     "text": [
      "G:\\bits_ss\\Dissertation\\archive\\final-anormal-data-set.csv\n",
      "G:\\bits_ss\\Dissertation\\archive\\final-complete-data-set.csv\n",
      "G:\\bits_ss\\Dissertation\\archive\\final-dataset.csv\n",
      "G:\\bits_ss\\Dissertation\\archive\\final-normal-data-set.csv\n"
     ]
    }
   ],
   "source": [
    "for dirname, _, filenames in os.walk('G:\\\\bits_ss\\\\Dissertation\\\\archive'):\n",
    "    for filename in filenames:\n",
    "        print(os.path.join(dirname, filename))"
   ]
  },
  {
   "cell_type": "code",
   "execution_count": 371,
   "metadata": {},
   "outputs": [
    {
     "name": "stdout",
     "output_type": "stream",
     "text": [
      "There are 95312 rows and 83 columns\n"
     ]
    },
    {
     "name": "stderr",
     "output_type": "stream",
     "text": [
      "C:\\anaconda\\lib\\site-packages\\IPython\\core\\interactiveshell.py:3071: DtypeWarning: Columns (14,19,26,27,52,57) have mixed types.Specify dtype option on import or set low_memory=False.\n",
      "  has_raised = await self.run_ast_nodes(code_ast.body, cell_name,\n"
     ]
    }
   ],
   "source": [
    "nRowsRead = None # specify 'None' if want to read whole file\n",
    "# final-anormal-data-set.csv may have more rows in reality, but we are only loading/previewing the first 1000 rows\n",
    "df1 = pd.read_csv('G:\\\\bits_ss\\\\Dissertation\\\\archive\\\\final-dataset.csv', delimiter=',', nrows = nRowsRead)\n",
    "df1.dataframeName = 'final-dataset.csv'\n",
    "nRow, nCol = df1.shape\n",
    "print(f'There are {nRow} rows and {nCol} columns')"
   ]
  },
  {
   "cell_type": "code",
   "execution_count": 372,
   "metadata": {},
   "outputs": [
    {
     "data": {
      "text/html": [
       "<div>\n",
       "<style scoped>\n",
       "    .dataframe tbody tr th:only-of-type {\n",
       "        vertical-align: middle;\n",
       "    }\n",
       "\n",
       "    .dataframe tbody tr th {\n",
       "        vertical-align: top;\n",
       "    }\n",
       "\n",
       "    .dataframe thead th {\n",
       "        text-align: right;\n",
       "    }\n",
       "</style>\n",
       "<table border=\"1\" class=\"dataframe\">\n",
       "  <thead>\n",
       "    <tr style=\"text-align: right;\">\n",
       "      <th></th>\n",
       "      <th>cpu_guest</th>\n",
       "      <th>cpu_guest_nice</th>\n",
       "      <th>cpu_idle</th>\n",
       "      <th>cpu_iowait</th>\n",
       "      <th>cpu_irq</th>\n",
       "      <th>cpu_nice</th>\n",
       "      <th>cpu_softirq</th>\n",
       "      <th>cpu_steal</th>\n",
       "      <th>cpu_system</th>\n",
       "      <th>cpu_total</th>\n",
       "      <th>...</th>\n",
       "      <th>processcount_thread</th>\n",
       "      <th>processcount_total</th>\n",
       "      <th>system_hostname</th>\n",
       "      <th>system_hr_name</th>\n",
       "      <th>system_linux_distro</th>\n",
       "      <th>system_os_name</th>\n",
       "      <th>system_os_version</th>\n",
       "      <th>system_platform</th>\n",
       "      <th>timestamp</th>\n",
       "      <th>Anormal</th>\n",
       "    </tr>\n",
       "  </thead>\n",
       "  <tbody>\n",
       "    <tr>\n",
       "      <th>0</th>\n",
       "      <td>0.0</td>\n",
       "      <td>0.0</td>\n",
       "      <td>0.0</td>\n",
       "      <td>0.0</td>\n",
       "      <td>0.0</td>\n",
       "      <td>0.0</td>\n",
       "      <td>0.0</td>\n",
       "      <td>0.0</td>\n",
       "      <td>5.0</td>\n",
       "      <td>100.0</td>\n",
       "      <td>...</td>\n",
       "      <td>155.0</td>\n",
       "      <td>122.0</td>\n",
       "      <td>vm1-graph-analytics</td>\n",
       "      <td>CentOS Linux 7.7.1908 64bit</td>\n",
       "      <td>CentOS Linux 7.7.1908</td>\n",
       "      <td>Linux</td>\n",
       "      <td>3.10.0-1062.12.1.el7.x86_64</td>\n",
       "      <td>64bit</td>\n",
       "      <td>28-01-2020 19:24</td>\n",
       "      <td>False</td>\n",
       "    </tr>\n",
       "    <tr>\n",
       "      <th>1</th>\n",
       "      <td>0.0</td>\n",
       "      <td>0.0</td>\n",
       "      <td>0.0</td>\n",
       "      <td>0.0</td>\n",
       "      <td>0.0</td>\n",
       "      <td>0.0</td>\n",
       "      <td>0.0</td>\n",
       "      <td>0.0</td>\n",
       "      <td>5.5</td>\n",
       "      <td>100.0</td>\n",
       "      <td>...</td>\n",
       "      <td>155.0</td>\n",
       "      <td>122.0</td>\n",
       "      <td>vm1-graph-analytics</td>\n",
       "      <td>CentOS Linux 7.7.1908 64bit</td>\n",
       "      <td>CentOS Linux 7.7.1908</td>\n",
       "      <td>Linux</td>\n",
       "      <td>3.10.0-1062.12.1.el7.x86_64</td>\n",
       "      <td>64bit</td>\n",
       "      <td>28-01-2020 19:24</td>\n",
       "      <td>False</td>\n",
       "    </tr>\n",
       "    <tr>\n",
       "      <th>2</th>\n",
       "      <td>0.0</td>\n",
       "      <td>0.0</td>\n",
       "      <td>0.0</td>\n",
       "      <td>0.0</td>\n",
       "      <td>0.0</td>\n",
       "      <td>0.0</td>\n",
       "      <td>0.0</td>\n",
       "      <td>0.0</td>\n",
       "      <td>5.5</td>\n",
       "      <td>100.0</td>\n",
       "      <td>...</td>\n",
       "      <td>155.0</td>\n",
       "      <td>122.0</td>\n",
       "      <td>vm1-graph-analytics</td>\n",
       "      <td>CentOS Linux 7.7.1908 64bit</td>\n",
       "      <td>CentOS Linux 7.7.1908</td>\n",
       "      <td>Linux</td>\n",
       "      <td>3.10.0-1062.12.1.el7.x86_64</td>\n",
       "      <td>64bit</td>\n",
       "      <td>28-01-2020 19:24</td>\n",
       "      <td>False</td>\n",
       "    </tr>\n",
       "    <tr>\n",
       "      <th>3</th>\n",
       "      <td>0.0</td>\n",
       "      <td>0.0</td>\n",
       "      <td>0.0</td>\n",
       "      <td>0.0</td>\n",
       "      <td>0.0</td>\n",
       "      <td>0.0</td>\n",
       "      <td>0.0</td>\n",
       "      <td>0.0</td>\n",
       "      <td>4.3</td>\n",
       "      <td>100.0</td>\n",
       "      <td>...</td>\n",
       "      <td>157.0</td>\n",
       "      <td>122.0</td>\n",
       "      <td>vm1-graph-analytics</td>\n",
       "      <td>CentOS Linux 7.7.1908 64bit</td>\n",
       "      <td>CentOS Linux 7.7.1908</td>\n",
       "      <td>Linux</td>\n",
       "      <td>3.10.0-1062.12.1.el7.x86_64</td>\n",
       "      <td>64bit</td>\n",
       "      <td>28-01-2020 19:24</td>\n",
       "      <td>False</td>\n",
       "    </tr>\n",
       "    <tr>\n",
       "      <th>4</th>\n",
       "      <td>0.0</td>\n",
       "      <td>0.0</td>\n",
       "      <td>0.0</td>\n",
       "      <td>0.0</td>\n",
       "      <td>0.0</td>\n",
       "      <td>0.0</td>\n",
       "      <td>0.0</td>\n",
       "      <td>0.0</td>\n",
       "      <td>5.0</td>\n",
       "      <td>100.0</td>\n",
       "      <td>...</td>\n",
       "      <td>155.0</td>\n",
       "      <td>122.0</td>\n",
       "      <td>vm1-graph-analytics</td>\n",
       "      <td>CentOS Linux 7.7.1908 64bit</td>\n",
       "      <td>CentOS Linux 7.7.1908</td>\n",
       "      <td>Linux</td>\n",
       "      <td>3.10.0-1062.12.1.el7.x86_64</td>\n",
       "      <td>64bit</td>\n",
       "      <td>28-01-2020 19:24</td>\n",
       "      <td>False</td>\n",
       "    </tr>\n",
       "  </tbody>\n",
       "</table>\n",
       "<p>5 rows × 83 columns</p>\n",
       "</div>"
      ],
      "text/plain": [
       "   cpu_guest  cpu_guest_nice  cpu_idle  cpu_iowait  cpu_irq  cpu_nice  \\\n",
       "0        0.0             0.0       0.0         0.0      0.0       0.0   \n",
       "1        0.0             0.0       0.0         0.0      0.0       0.0   \n",
       "2        0.0             0.0       0.0         0.0      0.0       0.0   \n",
       "3        0.0             0.0       0.0         0.0      0.0       0.0   \n",
       "4        0.0             0.0       0.0         0.0      0.0       0.0   \n",
       "\n",
       "   cpu_softirq  cpu_steal  cpu_system  cpu_total  ...  processcount_thread  \\\n",
       "0          0.0        0.0         5.0      100.0  ...                155.0   \n",
       "1          0.0        0.0         5.5      100.0  ...                155.0   \n",
       "2          0.0        0.0         5.5      100.0  ...                155.0   \n",
       "3          0.0        0.0         4.3      100.0  ...                157.0   \n",
       "4          0.0        0.0         5.0      100.0  ...                155.0   \n",
       "\n",
       "  processcount_total      system_hostname               system_hr_name  \\\n",
       "0              122.0  vm1-graph-analytics  CentOS Linux 7.7.1908 64bit   \n",
       "1              122.0  vm1-graph-analytics  CentOS Linux 7.7.1908 64bit   \n",
       "2              122.0  vm1-graph-analytics  CentOS Linux 7.7.1908 64bit   \n",
       "3              122.0  vm1-graph-analytics  CentOS Linux 7.7.1908 64bit   \n",
       "4              122.0  vm1-graph-analytics  CentOS Linux 7.7.1908 64bit   \n",
       "\n",
       "     system_linux_distro  system_os_name            system_os_version  \\\n",
       "0  CentOS Linux 7.7.1908           Linux  3.10.0-1062.12.1.el7.x86_64   \n",
       "1  CentOS Linux 7.7.1908           Linux  3.10.0-1062.12.1.el7.x86_64   \n",
       "2  CentOS Linux 7.7.1908           Linux  3.10.0-1062.12.1.el7.x86_64   \n",
       "3  CentOS Linux 7.7.1908           Linux  3.10.0-1062.12.1.el7.x86_64   \n",
       "4  CentOS Linux 7.7.1908           Linux  3.10.0-1062.12.1.el7.x86_64   \n",
       "\n",
       "  system_platform         timestamp Anormal  \n",
       "0           64bit  28-01-2020 19:24   False  \n",
       "1           64bit  28-01-2020 19:24   False  \n",
       "2           64bit  28-01-2020 19:24   False  \n",
       "3           64bit  28-01-2020 19:24   False  \n",
       "4           64bit  28-01-2020 19:24   False  \n",
       "\n",
       "[5 rows x 83 columns]"
      ]
     },
     "execution_count": 372,
     "metadata": {},
     "output_type": "execute_result"
    }
   ],
   "source": [
    "df1.head(5)"
   ]
  },
  {
   "cell_type": "code",
   "execution_count": 373,
   "metadata": {},
   "outputs": [
    {
     "name": "stdout",
     "output_type": "stream",
     "text": [
      "<class 'pandas.core.frame.DataFrame'>\n",
      "RangeIndex: 95312 entries, 0 to 95311\n",
      "Data columns (total 83 columns):\n",
      " #   Column                         Non-Null Count  Dtype  \n",
      "---  ------                         --------------  -----  \n",
      " 0   cpu_guest                      95311 non-null  float64\n",
      " 1   cpu_guest_nice                 95311 non-null  float64\n",
      " 2   cpu_idle                       95311 non-null  float64\n",
      " 3   cpu_iowait                     95310 non-null  float64\n",
      " 4   cpu_irq                        95311 non-null  float64\n",
      " 5   cpu_nice                       95310 non-null  float64\n",
      " 6   cpu_softirq                    95310 non-null  float64\n",
      " 7   cpu_steal                      95311 non-null  float64\n",
      " 8   cpu_system                     95311 non-null  float64\n",
      " 9   cpu_total                      95310 non-null  float64\n",
      " 10  cpu_user                       95311 non-null  float64\n",
      " 11  diskio_sda1_disk_name          95312 non-null  object \n",
      " 12  diskio_sda1_key                95312 non-null  object \n",
      " 13  diskio_sda1_read_bytes         95312 non-null  float64\n",
      " 14  diskio_sda1_time_since_update  95312 non-null  object \n",
      " 15  diskio_sda1_write_bytes        95312 non-null  int64  \n",
      " 16  diskio_sda_disk_name           95312 non-null  object \n",
      " 17  diskio_sda_key                 95312 non-null  object \n",
      " 18  diskio_sda_read_bytes          95312 non-null  float64\n",
      " 19  diskio_sda_time_since_update   95312 non-null  object \n",
      " 20  diskio_sda_write_bytes         95312 non-null  int64  \n",
      " 21  fs_/_device_name               95312 non-null  object \n",
      " 22  fs_/_free                      95312 non-null  int64  \n",
      " 23  fs_/_fs_type                   95312 non-null  object \n",
      " 24  fs_/_key                       95312 non-null  object \n",
      " 25  fs_/_mnt_point                 95312 non-null  object \n",
      " 26  fs_/_percent                   95312 non-null  object \n",
      " 27  fs_/_size                      95312 non-null  object \n",
      " 28  fs_/_used                      95312 non-null  int64  \n",
      " 29  load_cpucore                   95312 non-null  int64  \n",
      " 30  load_min1                      95312 non-null  float64\n",
      " 31  load_min15                     95312 non-null  float64\n",
      " 32  load_min5                      95312 non-null  float64\n",
      " 33  mem_active                     95312 non-null  int64  \n",
      " 34  mem_available                  95312 non-null  int64  \n",
      " 35  mem_buffers                    95311 non-null  float64\n",
      " 36  mem_cached                     95312 non-null  int64  \n",
      " 37  mem_free                       95312 non-null  int64  \n",
      " 38  mem_inactive                   95312 non-null  int64  \n",
      " 39  mem_percent                    95312 non-null  float64\n",
      " 40  mem_shared                     95312 non-null  float64\n",
      " 41  mem_total                      95311 non-null  float64\n",
      " 42  mem_used                       95312 non-null  int64  \n",
      " 43  memswap_free                   95312 non-null  int64  \n",
      " 44  memswap_percent                95312 non-null  float64\n",
      " 45  memswap_sin                    95312 non-null  int64  \n",
      " 46  memswap_sout                   95312 non-null  int64  \n",
      " 47  memswap_total                  95312 non-null  int64  \n",
      " 48  memswap_used                   95312 non-null  int64  \n",
      " 49  network_lo_cumulative_cx       95311 non-null  float64\n",
      " 50  network_lo_cumulative_rx       95311 non-null  float64\n",
      " 51  network_lo_cumulative_tx       95311 non-null  float64\n",
      " 52  network_lo_cx                  95311 non-null  object \n",
      " 53  network_lo_interface_name      95311 non-null  object \n",
      " 54  network_lo_key                 95311 non-null  object \n",
      " 55  network_lo_rx                  95311 non-null  float64\n",
      " 56  network_lo_time_since_update   95311 non-null  float64\n",
      " 57  network_lo_tx                  95311 non-null  object \n",
      " 58  percpu_0_cpu_number            95312 non-null  int64  \n",
      " 59  percpu_0_guest                 95312 non-null  int64  \n",
      " 60  percpu_0_guest_nice            95312 non-null  int64  \n",
      " 61  percpu_0_idle                  95312 non-null  float64\n",
      " 62  percpu_0_iowait                95312 non-null  float64\n",
      " 63  percpu_0_irq                   95312 non-null  int64  \n",
      " 64  percpu_0_key                   95312 non-null  object \n",
      " 65  percpu_0_nice                  95312 non-null  float64\n",
      " 66  percpu_0_softirq               95312 non-null  float64\n",
      " 67  percpu_0_steal                 95312 non-null  int64  \n",
      " 68  percpu_0_system                95312 non-null  float64\n",
      " 69  percpu_0_total                 95312 non-null  float64\n",
      " 70  percpu_0_user                  95312 non-null  float64\n",
      " 71  processcount_running           95311 non-null  float64\n",
      " 72  processcount_sleeping          95311 non-null  float64\n",
      " 73  processcount_thread            95311 non-null  float64\n",
      " 74  processcount_total             95311 non-null  float64\n",
      " 75  system_hostname                95312 non-null  object \n",
      " 76  system_hr_name                 95312 non-null  object \n",
      " 77  system_linux_distro            95312 non-null  object \n",
      " 78  system_os_name                 95312 non-null  object \n",
      " 79  system_os_version              95312 non-null  object \n",
      " 80  system_platform                95312 non-null  object \n",
      " 81  timestamp                      95312 non-null  object \n",
      " 82  Anormal                        95312 non-null  bool   \n",
      "dtypes: bool(1), float64(37), int64(21), object(24)\n",
      "memory usage: 59.7+ MB\n"
     ]
    }
   ],
   "source": [
    "df1.info()"
   ]
  },
  {
   "cell_type": "markdown",
   "metadata": {},
   "source": [
    "### Clear the dataset and normalise"
   ]
  },
  {
   "cell_type": "code",
   "execution_count": 374,
   "metadata": {},
   "outputs": [],
   "source": [
    "df1 = df1.select_dtypes(exclude=['object'])\n",
    "df1 =df1[~df1.isin([np.nan, np.inf, -np.inf]).any(1)]\n",
    "df1[\"Anormal\"] = df1[\"Anormal\"].astype(int)"
   ]
  },
  {
   "cell_type": "code",
   "execution_count": 375,
   "metadata": {},
   "outputs": [
    {
     "name": "stdout",
     "output_type": "stream",
     "text": [
      "<class 'pandas.core.frame.DataFrame'>\n",
      "Int64Index: 95310 entries, 0 to 95311\n",
      "Data columns (total 59 columns):\n",
      " #   Column                        Non-Null Count  Dtype  \n",
      "---  ------                        --------------  -----  \n",
      " 0   cpu_guest                     95310 non-null  float64\n",
      " 1   cpu_guest_nice                95310 non-null  float64\n",
      " 2   cpu_idle                      95310 non-null  float64\n",
      " 3   cpu_iowait                    95310 non-null  float64\n",
      " 4   cpu_irq                       95310 non-null  float64\n",
      " 5   cpu_nice                      95310 non-null  float64\n",
      " 6   cpu_softirq                   95310 non-null  float64\n",
      " 7   cpu_steal                     95310 non-null  float64\n",
      " 8   cpu_system                    95310 non-null  float64\n",
      " 9   cpu_total                     95310 non-null  float64\n",
      " 10  cpu_user                      95310 non-null  float64\n",
      " 11  diskio_sda1_read_bytes        95310 non-null  float64\n",
      " 12  diskio_sda1_write_bytes       95310 non-null  int64  \n",
      " 13  diskio_sda_read_bytes         95310 non-null  float64\n",
      " 14  diskio_sda_write_bytes        95310 non-null  int64  \n",
      " 15  fs_/_free                     95310 non-null  int64  \n",
      " 16  fs_/_used                     95310 non-null  int64  \n",
      " 17  load_cpucore                  95310 non-null  int64  \n",
      " 18  load_min1                     95310 non-null  float64\n",
      " 19  load_min15                    95310 non-null  float64\n",
      " 20  load_min5                     95310 non-null  float64\n",
      " 21  mem_active                    95310 non-null  int64  \n",
      " 22  mem_available                 95310 non-null  int64  \n",
      " 23  mem_buffers                   95310 non-null  float64\n",
      " 24  mem_cached                    95310 non-null  int64  \n",
      " 25  mem_free                      95310 non-null  int64  \n",
      " 26  mem_inactive                  95310 non-null  int64  \n",
      " 27  mem_percent                   95310 non-null  float64\n",
      " 28  mem_shared                    95310 non-null  float64\n",
      " 29  mem_total                     95310 non-null  float64\n",
      " 30  mem_used                      95310 non-null  int64  \n",
      " 31  memswap_free                  95310 non-null  int64  \n",
      " 32  memswap_percent               95310 non-null  float64\n",
      " 33  memswap_sin                   95310 non-null  int64  \n",
      " 34  memswap_sout                  95310 non-null  int64  \n",
      " 35  memswap_total                 95310 non-null  int64  \n",
      " 36  memswap_used                  95310 non-null  int64  \n",
      " 37  network_lo_cumulative_cx      95310 non-null  float64\n",
      " 38  network_lo_cumulative_rx      95310 non-null  float64\n",
      " 39  network_lo_cumulative_tx      95310 non-null  float64\n",
      " 40  network_lo_rx                 95310 non-null  float64\n",
      " 41  network_lo_time_since_update  95310 non-null  float64\n",
      " 42  percpu_0_cpu_number           95310 non-null  int64  \n",
      " 43  percpu_0_guest                95310 non-null  int64  \n",
      " 44  percpu_0_guest_nice           95310 non-null  int64  \n",
      " 45  percpu_0_idle                 95310 non-null  float64\n",
      " 46  percpu_0_iowait               95310 non-null  float64\n",
      " 47  percpu_0_irq                  95310 non-null  int64  \n",
      " 48  percpu_0_nice                 95310 non-null  float64\n",
      " 49  percpu_0_softirq              95310 non-null  float64\n",
      " 50  percpu_0_steal                95310 non-null  int64  \n",
      " 51  percpu_0_system               95310 non-null  float64\n",
      " 52  percpu_0_total                95310 non-null  float64\n",
      " 53  percpu_0_user                 95310 non-null  float64\n",
      " 54  processcount_running          95310 non-null  float64\n",
      " 55  processcount_sleeping         95310 non-null  float64\n",
      " 56  processcount_thread           95310 non-null  float64\n",
      " 57  processcount_total            95310 non-null  float64\n",
      " 58  Anormal                       95310 non-null  int32  \n",
      "dtypes: float64(37), int32(1), int64(21)\n",
      "memory usage: 43.3 MB\n"
     ]
    }
   ],
   "source": [
    "df1.info()"
   ]
  },
  {
   "cell_type": "code",
   "execution_count": 376,
   "metadata": {},
   "outputs": [
    {
     "data": {
      "text/plain": [
       "['cpu_guest',\n",
       " 'cpu_guest_nice',\n",
       " 'cpu_idle',\n",
       " 'cpu_iowait',\n",
       " 'cpu_irq',\n",
       " 'cpu_nice',\n",
       " 'cpu_softirq',\n",
       " 'cpu_steal',\n",
       " 'cpu_system',\n",
       " 'cpu_total',\n",
       " 'cpu_user',\n",
       " 'diskio_sda1_read_bytes',\n",
       " 'diskio_sda1_write_bytes',\n",
       " 'diskio_sda_read_bytes',\n",
       " 'diskio_sda_write_bytes',\n",
       " 'fs_/_free',\n",
       " 'fs_/_used',\n",
       " 'load_cpucore',\n",
       " 'load_min1',\n",
       " 'load_min15',\n",
       " 'load_min5',\n",
       " 'mem_active',\n",
       " 'mem_available',\n",
       " 'mem_buffers',\n",
       " 'mem_cached',\n",
       " 'mem_free',\n",
       " 'mem_inactive',\n",
       " 'mem_percent',\n",
       " 'mem_shared',\n",
       " 'mem_total',\n",
       " 'mem_used',\n",
       " 'memswap_free',\n",
       " 'memswap_percent',\n",
       " 'memswap_sin',\n",
       " 'memswap_sout',\n",
       " 'memswap_total',\n",
       " 'memswap_used',\n",
       " 'network_lo_cumulative_cx',\n",
       " 'network_lo_cumulative_rx',\n",
       " 'network_lo_cumulative_tx',\n",
       " 'network_lo_rx',\n",
       " 'network_lo_time_since_update',\n",
       " 'percpu_0_cpu_number',\n",
       " 'percpu_0_guest',\n",
       " 'percpu_0_guest_nice',\n",
       " 'percpu_0_idle',\n",
       " 'percpu_0_iowait',\n",
       " 'percpu_0_irq',\n",
       " 'percpu_0_nice',\n",
       " 'percpu_0_softirq',\n",
       " 'percpu_0_steal',\n",
       " 'percpu_0_system',\n",
       " 'percpu_0_total',\n",
       " 'percpu_0_user',\n",
       " 'processcount_running',\n",
       " 'processcount_sleeping',\n",
       " 'processcount_thread',\n",
       " 'processcount_total',\n",
       " 'Anormal']"
      ]
     },
     "execution_count": 376,
     "metadata": {},
     "output_type": "execute_result"
    }
   ],
   "source": [
    "list(df1.columns)"
   ]
  },
  {
   "cell_type": "markdown",
   "metadata": {},
   "source": [
    "### Split the dataset into feature and target set"
   ]
  },
  {
   "cell_type": "code",
   "execution_count": 377,
   "metadata": {},
   "outputs": [],
   "source": [
    "X = df1.copy()\n",
    "X.drop(list(X.filter(regex = 'mem_')), axis = 1, inplace = True)\n",
    "X.drop(list(X.filter(regex = 'memswap')), axis = 1, inplace = True)\n",
    "X = X.loc[:, X.columns != 'Anormal']\n",
    "y = df1[\"Anormal\"].astype(int)"
   ]
  },
  {
   "cell_type": "code",
   "execution_count": 378,
   "metadata": {},
   "outputs": [
    {
     "data": {
      "text/plain": [
       "['cpu_guest',\n",
       " 'cpu_guest_nice',\n",
       " 'cpu_idle',\n",
       " 'cpu_iowait',\n",
       " 'cpu_irq',\n",
       " 'cpu_nice',\n",
       " 'cpu_softirq',\n",
       " 'cpu_steal',\n",
       " 'cpu_system',\n",
       " 'cpu_total',\n",
       " 'cpu_user',\n",
       " 'diskio_sda1_read_bytes',\n",
       " 'diskio_sda1_write_bytes',\n",
       " 'diskio_sda_read_bytes',\n",
       " 'diskio_sda_write_bytes',\n",
       " 'fs_/_free',\n",
       " 'fs_/_used',\n",
       " 'load_cpucore',\n",
       " 'load_min1',\n",
       " 'load_min15',\n",
       " 'load_min5',\n",
       " 'network_lo_cumulative_cx',\n",
       " 'network_lo_cumulative_rx',\n",
       " 'network_lo_cumulative_tx',\n",
       " 'network_lo_rx',\n",
       " 'network_lo_time_since_update',\n",
       " 'percpu_0_cpu_number',\n",
       " 'percpu_0_guest',\n",
       " 'percpu_0_guest_nice',\n",
       " 'percpu_0_idle',\n",
       " 'percpu_0_iowait',\n",
       " 'percpu_0_irq',\n",
       " 'percpu_0_nice',\n",
       " 'percpu_0_softirq',\n",
       " 'percpu_0_steal',\n",
       " 'percpu_0_system',\n",
       " 'percpu_0_total',\n",
       " 'percpu_0_user',\n",
       " 'processcount_running',\n",
       " 'processcount_sleeping',\n",
       " 'processcount_thread',\n",
       " 'processcount_total']"
      ]
     },
     "execution_count": 378,
     "metadata": {},
     "output_type": "execute_result"
    }
   ],
   "source": [
    "list(X.columns)"
   ]
  },
  {
   "cell_type": "markdown",
   "metadata": {},
   "source": [
    "### Using Logistic Regression Classifier"
   ]
  },
  {
   "cell_type": "code",
   "execution_count": 379,
   "metadata": {},
   "outputs": [],
   "source": [
    "from sklearn.model_selection import train_test_split\n",
    "X_train,X_test,y_train,y_test=train_test_split(X,y,test_size=0.25,random_state=0)"
   ]
  },
  {
   "cell_type": "code",
   "execution_count": 380,
   "metadata": {},
   "outputs": [],
   "source": [
    "# import the class\n",
    "from sklearn.linear_model import LogisticRegression\n",
    "\n",
    "# instantiate the model (using the default parameters)\n",
    "logreg = LogisticRegression()\n",
    "\n",
    "# fit the model with data\n",
    "logreg.fit(X_train,y_train)\n",
    "\n",
    "#\n",
    "y_pred=logreg.predict(X_test)"
   ]
  },
  {
   "cell_type": "code",
   "execution_count": 381,
   "metadata": {},
   "outputs": [
    {
     "data": {
      "text/plain": [
       "array([[20105,   104],\n",
       "       [ 1937,  1682]], dtype=int64)"
      ]
     },
     "execution_count": 381,
     "metadata": {},
     "output_type": "execute_result"
    }
   ],
   "source": [
    "# import the metrics class\n",
    "from sklearn.metrics import classification_report, confusion_matrix\n",
    "cnf_matrix = metrics.confusion_matrix(y_test, y_pred)\n",
    "cnf_matrix"
   ]
  },
  {
   "cell_type": "code",
   "execution_count": 382,
   "metadata": {},
   "outputs": [
    {
     "name": "stdout",
     "output_type": "stream",
     "text": [
      "              precision    recall  f1-score   support\n",
      "\n",
      "           0       0.91      0.99      0.95     20209\n",
      "           1       0.94      0.46      0.62      3619\n",
      "\n",
      "    accuracy                           0.91     23828\n",
      "   macro avg       0.93      0.73      0.79     23828\n",
      "weighted avg       0.92      0.91      0.90     23828\n",
      "\n"
     ]
    }
   ],
   "source": [
    "print(classification_report(y_test, y_pred))"
   ]
  },
  {
   "cell_type": "code",
   "execution_count": 383,
   "metadata": {},
   "outputs": [
    {
     "data": {
      "image/png": "[encoded data removed]",
      "text/plain": [
       "<Figure size 432x288 with 1 Axes>"
      ]
     },
     "metadata": {
      "needs_background": "light"
     },
     "output_type": "display_data"
    }
   ],
   "source": [
    "y_pred_proba = logreg.predict_proba(X_test)[::,1]\n",
    "fpr, tpr, _ = metrics.roc_curve(y_test,  y_pred_proba)\n",
    "auc = metrics.roc_auc_score(y_test, y_pred_proba)\n",
    "plt.plot(fpr,tpr,label=\"data 1, auc=\"+str(auc))\n",
    "plt.legend(loc=4)\n",
    "plt.show()"
   ]
  },
  {
   "cell_type": "markdown",
   "metadata": {},
   "source": [
    "### Using Decision Tree Classifier"
   ]
  },
  {
   "cell_type": "code",
   "execution_count": 384,
   "metadata": {},
   "outputs": [
    {
     "data": {
      "text/plain": [
       "DecisionTreeClassifier()"
      ]
     },
     "execution_count": 384,
     "metadata": {},
     "output_type": "execute_result"
    }
   ],
   "source": [
    "from sklearn.tree import DecisionTreeClassifier\n",
    "dtc = DecisionTreeClassifier()\n",
    "dtc.fit(X_train, y_train)"
   ]
  },
  {
   "cell_type": "code",
   "execution_count": 385,
   "metadata": {},
   "outputs": [],
   "source": [
    "y_pred = dtc.predict(X_test)"
   ]
  },
  {
   "cell_type": "code",
   "execution_count": 386,
   "metadata": {},
   "outputs": [
    {
     "name": "stdout",
     "output_type": "stream",
     "text": [
      "[[20187    22]\n",
      " [   15  3604]]\n",
      "              precision    recall  f1-score   support\n",
      "\n",
      "           0       1.00      1.00      1.00     20209\n",
      "           1       0.99      1.00      0.99      3619\n",
      "\n",
      "    accuracy                           1.00     23828\n",
      "   macro avg       1.00      1.00      1.00     23828\n",
      "weighted avg       1.00      1.00      1.00     23828\n",
      "\n"
     ]
    }
   ],
   "source": [
    "\n",
    "print(confusion_matrix(y_test, y_pred))\n",
    "print(classification_report(y_test, y_pred))"
   ]
  },
  {
   "cell_type": "code",
   "execution_count": 387,
   "metadata": {},
   "outputs": [
    {
     "data": {
      "image/png": "[encoded data removed]",
      "text/plain": [
       "<Figure size 432x288 with 1 Axes>"
      ]
     },
     "metadata": {
      "needs_background": "light"
     },
     "output_type": "display_data"
    }
   ],
   "source": [
    "y_pred_proba = dtc.predict_proba(X_test)[::,1]\n",
    "fpr, tpr, _ = metrics.roc_curve(y_test,  y_pred_proba)\n",
    "auc = metrics.roc_auc_score(y_test, y_pred_proba)\n",
    "plt.plot(fpr,tpr,label=\"data 1, auc=\"+str(auc))\n",
    "plt.legend(loc=4)\n",
    "plt.show()"
   ]
  },
  {
   "cell_type": "markdown",
   "metadata": {},
   "source": [
    "### Using KNN Classifier"
   ]
  },
  {
   "cell_type": "code",
   "execution_count": 388,
   "metadata": {},
   "outputs": [
    {
     "data": {
      "text/plain": [
       "KNeighborsClassifier(n_neighbors=3)"
      ]
     },
     "execution_count": 388,
     "metadata": {},
     "output_type": "execute_result"
    }
   ],
   "source": [
    "# Import module for KNN\n",
    "from sklearn.neighbors import KNeighborsClassifier\n",
    "# Create KNN instance\n",
    "# n_neighbors -> argument identifies the amount of neighbors used to ID classification\n",
    "knn = KNeighborsClassifier(n_neighbors=3)\n",
    "# Fit (i.e. traing) the model\n",
    "knn.fit(X_train, y_train)"
   ]
  },
  {
   "cell_type": "code",
   "execution_count": 389,
   "metadata": {},
   "outputs": [
    {
     "data": {
      "text/plain": [
       "array([[20105,   104],\n",
       "       [  116,  3503]], dtype=int64)"
      ]
     },
     "execution_count": 389,
     "metadata": {},
     "output_type": "execute_result"
    }
   ],
   "source": [
    "# Use the .predict() method to make predictions from the X_test subset\n",
    "y_pred = knn.predict(X_test)\n",
    "cnf_matrix = metrics.confusion_matrix(y_test, y_pred)\n",
    "cnf_matrix"
   ]
  },
  {
   "cell_type": "code",
   "execution_count": 390,
   "metadata": {},
   "outputs": [
    {
     "name": "stdout",
     "output_type": "stream",
     "text": [
      "[[20105   104]\n",
      " [  116  3503]]\n",
      "              precision    recall  f1-score   support\n",
      "\n",
      "           0       0.99      0.99      0.99     20209\n",
      "           1       0.97      0.97      0.97      3619\n",
      "\n",
      "    accuracy                           0.99     23828\n",
      "   macro avg       0.98      0.98      0.98     23828\n",
      "weighted avg       0.99      0.99      0.99     23828\n",
      "\n"
     ]
    }
   ],
   "source": [
    "print(confusion_matrix(y_test, y_pred))\n",
    "print(classification_report(y_test, y_pred))"
   ]
  },
  {
   "cell_type": "code",
   "execution_count": 391,
   "metadata": {},
   "outputs": [
    {
     "data": {
      "image/png": "[encoded data removed]",
      "text/plain": [
       "<Figure size 432x288 with 1 Axes>"
      ]
     },
     "metadata": {
      "needs_background": "light"
     },
     "output_type": "display_data"
    }
   ],
   "source": [
    "y_pred_proba = knn.predict_proba(X_test)[::,1]\n",
    "fpr, tpr, _ = metrics.roc_curve(y_test,  y_pred_proba)\n",
    "auc = metrics.roc_auc_score(y_test, y_pred_proba)\n",
    "plt.plot(fpr,tpr,label=\"data 1, auc=\"+str(auc))\n",
    "plt.legend(loc=4)\n",
    "plt.show()"
   ]
  },
  {
   "cell_type": "code",
   "execution_count": null,
   "metadata": {},
   "outputs": [],
   "source": []
  }
 ],
 "metadata": {
  "kernelspec": {
   "display_name": "Python 3",
   "language": "python",
   "name": "python3"
  },
  "language_info": {
   "codemirror_mode": {
    "name": "ipython",
    "version": 3
   },
   "file_extension": ".py",
   "mimetype": "text/x-python",
   "name": "python",
   "nbconvert_exporter": "python",
   "pygments_lexer": "ipython3",
   "version": "3.8.3"
  }
 },
 "nbformat": 4,
 "nbformat_minor": 4
}
